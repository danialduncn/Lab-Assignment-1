{
 "cells": [
  {
   "cell_type": "code",
   "execution_count": 28,
   "id": "2d9576c8-9829-43f3-afc0-c616c47a41ac",
   "metadata": {},
   "outputs": [
    {
     "name": "stdout",
     "output_type": "stream",
     "text": [
      "Scraping completed and data saved to CSV file.\n"
     ]
    }
   ],
   "source": [
    "import requests\n",
    "from bs4 import BeautifulSoup\n",
    "import csv\n",
    "\n",
    "# Function to scrape reviews from a single page\n",
    "def scrape_page(soup, reviews):\n",
    "    for review_container in soup.find_all('div', class_='shopee-product-rating__review-item'):\n",
    "        review = {}\n",
    "        text = review_container.find('div', class_='shopee-product-rating__content').text\n",
    "        author = review_container.find('div', class_='shopee-product-rating__author-name').text\n",
    "        date = review_container.find('div', class_='shopee-product-rating__time').text\n",
    "        review.update({'Text': text, 'Author': author, 'Date': date})\n",
    "        reviews.append(review)\n",
    "\n",
    "# Base URL and headers\n",
    "base_url = 'https://shopee.com.my/Kodak-UltraMax-400-Color-Negative-Film-(single-roll-no-box-)35mm-Roll-Film-24-Exposures)-i.112722913.6373657739?sp_atk=619e071d-509a-4f33-a7f9-de50f2a102d0&xptdk=619e071d-509a-4f33-a7f9-de50f2a102d0'\n",
    "headers = {'User-Agent': 'Explorer/0.01'}\n",
    "\n",
    "# List to store reviews\n",
    "reviews = []\n",
    "\n",
    "# Function to scrape reviews from multiple pages\n",
    "def scrape_all_pages(url):\n",
    "    while url:\n",
    "        response = requests.get(url, headers=headers)\n",
    "        soup = BeautifulSoup(response.text, 'html.parser')\n",
    "        scrape_page(soup, reviews)\n",
    "        next_page = soup.find('a', {'class': 'shopee-page-btn__next'})\n",
    "        if next_page:\n",
    "            url = next_page['href']\n",
    "        else:\n",
    "            url = None\n",
    "\n",
    "# Scrape quotes from all pages\n",
    "scrape_all_pages(base_url)\n",
    "\n",
    "# Function to save data into CSV\n",
    "def save_to_csv(data, filename):\n",
    "    \"\"\"\n",
    "    Saves the scraped data into a CSV file.\n",
    "\n",
    "    Args:\n",
    "    data (list): List of dictionaries containing scraped data.\n",
    "    filename (str): Name of the CSV file.\n",
    "    \"\"\"\n",
    "    if not data:\n",
    "        print(\"No reviews found to save.\")\n",
    "        return\n",
    "\n",
    "    keys = data[0].keys()\n",
    "    with open(filename, 'w', newline='', encoding='utf-8') as f:\n",
    "        writer = csv.DictWriter(f, keys)\n",
    "        writer.writeheader()\n",
    "        writer.writerows(data)\n",
    "\n",
    "print(\"Scraping completed and data saved to CSV file.\")\n",
    "\n",
    "# Include the name and ID of the group members in the script\n",
    "# Replace \"Name\" and \"ID\" with the actual names and IDs\n",
    "group_members = [\n",
    "    {\"Afiq Danial\", \"IS0107612\"},\n",
    "    {\"Meor Hafizuddin\", \"IS01080731\"},\n",
    "]\n",
    "\n",
    "# Save reviews to CSV file\n",
    "with open('reviews.csv', 'w', newline='', encoding='utf-8') as csvfile:\n",
    "    writer = csv.DictWriter(csvfile, fieldnames=['Text', 'Author', 'Tags'])\n",
    "    writer.writeheader()\n",
    "    writer.writerows(reviews)"
   ]
  },
  {
   "cell_type": "code",
   "execution_count": null,
   "id": "b9a38f7a-3acf-47ec-bc0a-a979bde35247",
   "metadata": {},
   "outputs": [],
   "source": []
  }
 ],
 "metadata": {
  "kernelspec": {
   "display_name": "Python 3 (ipykernel)",
   "language": "python",
   "name": "python3"
  },
  "language_info": {
   "codemirror_mode": {
    "name": "ipython",
    "version": 3
   },
   "file_extension": ".py",
   "mimetype": "text/x-python",
   "name": "python",
   "nbconvert_exporter": "python",
   "pygments_lexer": "ipython3",
   "version": "3.11.7"
  }
 },
 "nbformat": 4,
 "nbformat_minor": 5
}
